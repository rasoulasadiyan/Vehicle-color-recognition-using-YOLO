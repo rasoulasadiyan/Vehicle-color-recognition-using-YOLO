{
 "cells": [
  {
   "cell_type": "code",
   "execution_count": 2,
   "metadata": {},
   "outputs": [],
   "source": [
    "import os\n",
    "import cv2\n",
    "from vehicle_detector import VehicleDetector\n",
    "from color_classification_image5 import recegnizion_color\n",
    "\n",
    "from PIL import Image\n"
   ]
  },
  {
   "cell_type": "code",
   "execution_count": 3,
   "metadata": {},
   "outputs": [],
   "source": [
    "list_dir=os.listdir('./test_dataset')\n",
    "\n",
    "vd= VehicleDetector()"
   ]
  },
  {
   "cell_type": "code",
   "execution_count": null,
   "metadata": {},
   "outputs": [],
   "source": [
    "row=0\n",
    "col=[]\n",
    "for folder in list_dir:\n",
    "    row+=1\n",
    "    directory=f'./test_dataset/{folder}'\n",
    "    col.append(len([img for img in os.listdir(directory)]))\n",
    "\n",
    "print(row)\n",
    "print(col)"
   ]
  },
  {
   "cell_type": "code",
   "execution_count": 5,
   "metadata": {},
   "outputs": [],
   "source": [
    "color_dic={'black':0 , 'blue':1 , 'brown':2 , 'green':3 , 'grey':4 , 'orange':5 , \n",
    "            'red':6 , 'violet':7 , 'white':8 , 'yellow':9}"
   ]
  },
  {
   "cell_type": "code",
   "execution_count": null,
   "metadata": {},
   "outputs": [],
   "source": []
  },
  {
   "cell_type": "code",
   "execution_count": null,
   "metadata": {},
   "outputs": [],
   "source": [
    "cm=[]\n",
    "f_num=0\n",
    "for folder in list_dir:\n",
    "    \n",
    "    directory=f'./test_dataset/{folder}'\n",
    "    preds=[0]*10\n",
    "    color_folder = os.path.join(directory)\n",
    "    for img_name in os.listdir(directory):\n",
    "        filename=img_name\n",
    "        # path = directory + '/'+  img_name\n",
    "        path=os.path.join(directory,img_name)\n",
    "        img=cv2.imread(path)\n",
    "        vehicle_boxes = vd.detect_vehicles(img)\n",
    "        imag_for_crop=Image.open(path)\n",
    "        i=1\n",
    "        if(len(vehicle_boxes)==0):\n",
    "            w2=imag_for_crop.width\n",
    "            h2=imag_for_crop.height\n",
    "            x2=int(w2/2)\n",
    "            y2=int(h2/2)\n",
    "            croped_1_3=imag_for_crop.crop((x2/3,y2/1.5,x2+w2/3,y2+h2/5))\n",
    "            name='croped1B'\n",
    "            croped_1_3.save(f'static/{name}.jpg')\n",
    "            i+=1\n",
    "        else:\n",
    "            for box in vehicle_boxes:\n",
    "                x, y, w, h = box\n",
    "                img=cv2.rectangle(img, (x, y), (x + w, y + h), (50, 150, 180), 3)\n",
    "\n",
    "                croped_image=imag_for_crop.crop((x,y,x+w,y+h))\n",
    "\n",
    "                w2=croped_image.width\n",
    "                h2=croped_image.height\n",
    "                x2=int(w2/2)\n",
    "                y2=int(h2/2)\n",
    "\n",
    "                croped_1_3=croped_image.crop((x2/3,y2/1.5,x2+w2/3,y2+h2/5))\n",
    "            \n",
    "            \n",
    "                name='croped'+str(i)\n",
    "                croped_image.save(f'static/{name}.jpg')\n",
    "                name2='croped'+str(i)+'B'\n",
    "                croped_1_3.save(f'static/{name2}.jpg')\n",
    "                i+=1\n",
    "\n",
    "        cv2.imwrite('static/detected.jpg',img)\n",
    "\n",
    "        prediction=recegnizion_color(i)\n",
    "\n",
    "        preds[color_dic[prediction[0]]]+=1\n",
    "        # if folder in prediction:\n",
    "        #     preds[color_dic[folder]]+=1\n",
    "        # else    \n",
    "\n",
    "    f_num+=1\n",
    "    cm.append(preds)    \n",
    "        \n",
    "\n",
    "    "
   ]
  }
 ],
 "metadata": {
  "kernelspec": {
   "display_name": "Python 3.10.5 ('ve': venv)",
   "language": "python",
   "name": "python3"
  },
  "language_info": {
   "codemirror_mode": {
    "name": "ipython",
    "version": 3
   },
   "file_extension": ".py",
   "mimetype": "text/x-python",
   "name": "python",
   "nbconvert_exporter": "python",
   "pygments_lexer": "ipython3",
   "version": "3.10.5"
  },
  "orig_nbformat": 4,
  "vscode": {
   "interpreter": {
    "hash": "1cf14d9d17bb8518604b01d08f31790677c589c0042e6a455aefd005c90fbc79"
   }
  }
 },
 "nbformat": 4,
 "nbformat_minor": 2
}
